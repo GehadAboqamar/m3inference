{
  "nbformat": 4,
  "nbformat_minor": 2,
  "metadata": {
    "colab": {
      "name": "Try_fullRe.ipynb",
      "provenance": [],
      "collapsed_sections": []
    },
    "kernelspec": {
      "name": "python3",
      "display_name": "Python 3.8.8 64-bit ('base': conda)"
    },
    "language_info": {
      "name": "python",
      "version": "3.8.8",
      "mimetype": "text/x-python",
      "codemirror_mode": {
        "name": "ipython",
        "version": 3
      },
      "pygments_lexer": "ipython3",
      "nbconvert_exporter": "python",
      "file_extension": ".py"
    },
    "metadata": {
      "interpreter": {
        "hash": "d61e7a925085c5491dec4449b1b85ce3869218f0b13246be82967634ebcdbd79"
      }
    },
    "interpreter": {
      "hash": "78ad9deaa1be773607b97c6d07bdea83a3029a62747d573f41c52d3615437445"
    }
  },
  "cells": [
    {
      "cell_type": "code",
      "execution_count": 1,
      "source": [
        "import os\r\n",
        "import json\r\n",
        "import pandas as pd"
      ],
      "outputs": [],
      "metadata": {}
    },
    {
      "cell_type": "code",
      "execution_count": 2,
      "source": [
        "from m3inference import M3Inference\r\n",
        "import pprint\r\n"
      ],
      "outputs": [],
      "metadata": {
        "id": "eayvHb3EJ9z-"
      }
    },
    {
      "cell_type": "code",
      "execution_count": null,
      "source": [
        "m3 = M3Inference() "
      ],
      "outputs": [],
      "metadata": {
        "id": "lZncACOTIeWX",
        "colab": {
          "base_uri": "https://localhost:8080/"
        },
        "outputId": "656767ae-068a-49ed-a85a-7ef2dc9430a8"
      }
    },
    {
      "cell_type": "code",
      "execution_count": null,
      "source": [
        "from m3inference import M3Inference\r\n",
        "import pprint\r\n",
        "m3 = M3Inference() "
      ],
      "outputs": [],
      "metadata": {
        "colab": {
          "base_uri": "https://localhost:8080/"
        },
        "id": "khmb5ahRNH06",
        "outputId": "645c7c74-c4da-4093-e79f-580a63ff8b95"
      }
    },
    {
      "cell_type": "code",
      "execution_count": 63,
      "source": [
        "#  from m3inference.preprocess import update_json\r\n",
        "#  def update_json(jsonl_filepath, jsonl_outfilepath):\r\n",
        "#     list_of_jsons = []\r\n",
        "#     with open(jsonl_filepath) as infile:\r\n",
        "#         for line in infile:\r\n",
        "#             list_of_jsons.append(json.loads(line))\r\n",
        "            \r\n",
        "#     for j in list_of_jsons:\r\n",
        "#         for i in j:\r\n",
        "#             img_path = i['img_path']\r\n",
        "#             print(img_path)"
      ],
      "outputs": [],
      "metadata": {}
    },
    {
      "cell_type": "code",
      "execution_count": null,
      "source": [
        "# update_json('testurl.jsonl', 'out.jsonl')"
      ],
      "outputs": [],
      "metadata": {}
    },
    {
      "cell_type": "code",
      "execution_count": 72,
      "source": [
        "pred = m3.infer('testA.jsonl')\r\n",
        "pprint.pprint(pred)"
      ],
      "outputs": [
        {
          "output_type": "stream",
          "name": "stderr",
          "text": [
            "10/04/2021 23:22:58 - INFO - m3inference.dataset -   7 data entries loaded.\n",
            "Predicting...: 100%|██████████| 1/1 [00:14<00:00, 14.22s/it]"
          ]
        },
        {
          "output_type": "stream",
          "name": "stdout",
          "text": [
            "OrderedDict([('1000794494',\n",
            "              {'age': {'19-29': 0.5826,\n",
            "                       '30-39': 0.0498,\n",
            "                       '<=18': 0.2657,\n",
            "                       '>=40': 0.1019},\n",
            "               'gender': {'female': 0.039, 'male': 0.961},\n",
            "               'org': {'is-org': 0.0008, 'non-org': 0.9992}}),\n",
            "             ('895419379885780992',\n",
            "              {'age': {'19-29': 0.948,\n",
            "                       '30-39': 0.0193,\n",
            "                       '<=18': 0.0092,\n",
            "                       '>=40': 0.0235},\n",
            "               'gender': {'female': 0.0001, 'male': 0.9999},\n",
            "               'org': {'is-org': 0.0, 'non-org': 1.0}}),\n",
            "             ('113097055',\n",
            "              {'age': {'19-29': 0.0239,\n",
            "                       '30-39': 0.9266,\n",
            "                       '<=18': 0.0008,\n",
            "                       '>=40': 0.0487},\n",
            "               'gender': {'female': 0.0003, 'male': 0.9997},\n",
            "               'org': {'is-org': 0.0, 'non-org': 1.0}}),\n",
            "             ('200161095',\n",
            "              {'age': {'19-29': 0.8858,\n",
            "                       '30-39': 0.1078,\n",
            "                       '<=18': 0.0024,\n",
            "                       '>=40': 0.004},\n",
            "               'gender': {'female': 0.0075, 'male': 0.9925},\n",
            "               'org': {'is-org': 0.0, 'non-org': 1.0}}),\n",
            "             ('3438495537',\n",
            "              {'age': {'19-29': 0.7682,\n",
            "                       '30-39': 0.0243,\n",
            "                       '<=18': 0.1861,\n",
            "                       '>=40': 0.0214},\n",
            "               'gender': {'female': 0.0052, 'male': 0.9948},\n",
            "               'org': {'is-org': 0.0, 'non-org': 1.0}}),\n",
            "             ('1058949787918065665',\n",
            "              {'age': {'19-29': 0.2147,\n",
            "                       '30-39': 0.0928,\n",
            "                       '<=18': 0.6728,\n",
            "                       '>=40': 0.0197},\n",
            "               'gender': {'female': 0.0442, 'male': 0.9558},\n",
            "               'org': {'is-org': 0.9033, 'non-org': 0.0967}}),\n",
            "             ('551393952',\n",
            "              {'age': {'19-29': 0.7234,\n",
            "                       '30-39': 0.1896,\n",
            "                       '<=18': 0.081,\n",
            "                       '>=40': 0.006},\n",
            "               'gender': {'female': 0.0064, 'male': 0.9936},\n",
            "               'org': {'is-org': 0.0, 'non-org': 1.0}})])\n"
          ]
        },
        {
          "output_type": "stream",
          "name": "stderr",
          "text": [
            "\n"
          ]
        }
      ],
      "metadata": {
        "id": "IhJmyg6eKQwD"
      }
    },
    {
      "cell_type": "markdown",
      "source": [],
      "metadata": {}
    },
    {
      "cell_type": "code",
      "execution_count": null,
      "source": [],
      "outputs": [],
      "metadata": {
        "id": "U8Zie_qRisv4"
      }
    }
  ]
}